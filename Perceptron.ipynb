{
 "cells": [
  {
   "cell_type": "markdown",
   "metadata": {},
   "source": [
    "## A simple perceptron algorithm"
   ]
  },
  {
   "cell_type": "code",
   "execution_count": 1,
   "metadata": {
    "collapsed": false
   },
   "outputs": [],
   "source": [
    "\n",
    "import random\n",
    "import numpy as np\n",
    "import scipy.io as sio\n",
    "import plotly.plotly as py\n",
    "from plotly.graph_objs import *\n",
    "\n",
    "data = sio.loadmat('datasets/dataset1.mat')\n",
    "\n",
    "w_gen_feas = (data['w_gen_feas']).transpose()\n",
    "pos_examples_nobias = data['pos_examples_nobias']\n",
    "neg_examples_nobias = data['neg_examples_nobias']\n",
    "w_init = (data['w_init']).transpose()\n",
    "\n",
    "learn_perceptron(neg_examples_nobias,pos_examples_nobias,w_init,w_gen_feas)\n"
   ]
  },
  {
   "cell_type": "code",
   "execution_count": 2,
   "metadata": {
    "collapsed": false
   },
   "outputs": [],
   "source": [
    "def learn_perceptron(neg_examples_nobias,pos_examples_nobias,w_init,w_gen_feas):\n",
    "    num_neg_examples = (neg_examples_nobias).shape\n",
    "    num_pos_examples = (pos_examples_nobias).shape\n",
    "    num_errors_history = []\n",
    "    \n",
    "    #Adding a column of ones to learn the bias parameters. \n",
    "    \n",
    "    neg_examples = np.ones([num_neg_examples[0], num_neg_examples[1]+1])\n",
    "    neg_examples[:,:-1] = neg_examples_nobias\n",
    "    pos_examples = np.ones([num_pos_examples[0], num_pos_examples[1]+1])\n",
    "    pos_examples[:,:-1] = pos_examples_nobias\n",
    "    \n",
    "    #print neg_examples_nobias\n",
    "    #print neg_examples\n",
    "    \n",
    "    #neg_examples = [x + [1] for x in neg_examples_nobias]\n",
    "    #pos_examples = [x + [1] for x in pos_examples_nobias]\n",
    "    \n",
    "    if w_init is None: \n",
    "        w = np.ndarray([random.random() for i in range(3)])\n",
    "    else: \n",
    "        w = w_init\n",
    "     \n",
    "    if w_gen_feas is None:\n",
    "        w_gen_feas = np.zeros(shape=w.shape)\n",
    "        \n",
    "    \n",
    "    \n",
    "    neg_example_mistakes, pos_example_mistakes = eval_perceptron(neg_examples, pos_examples, w) \n",
    "    total_errors = len(neg_example_mistakes) + len(pos_example_mistakes)\n",
    "    num_errors_history.append(total_errors)\n",
    "    \n",
    "    while total_errors > 0:\n",
    "        \n",
    "        w = update_weights(neg_examples, pos_examples, w)\n",
    "        neg_example_mistakes, pos_example_mistakes = eval_perceptron(neg_examples, pos_examples, w) \n",
    "        total_errors = len(neg_example_mistakes) + len(pos_example_mistakes)\n",
    "        num_errors_history.append(total_errors)\n",
    "        print \"Number of errors : {}\".format(total_errors)\n",
    "        print \"Weights: \"\n",
    "        print w \n",
    "        \n",
    "        key = raw_input('Press enter to continue, q to quit:')\n",
    "        if key is 'q':\n",
    "            break\n"
   ]
  },
  {
   "cell_type": "code",
   "execution_count": 3,
   "metadata": {
    "collapsed": true
   },
   "outputs": [],
   "source": [
    "def update_weights(neg_examples, pos_examples, w_current): \n",
    "    \n",
    "    w = w_current\n",
    "    \n",
    "    for i in xrange(0, len(neg_examples)):\n",
    "        this_case = neg_examples[i][:]\n",
    "        x = (np.array(this_case)).transpose()\n",
    "        \n",
    "        activation = np.sum(np.array(this_case) * np.array(w))\n",
    "        if activation >= 0: \n",
    "            w = (np.array(w) - np.array(x))\n",
    "    \n",
    "    for i in xrange(0, len(pos_examples)):\n",
    "        this_case = pos_examples[i][:]\n",
    "        x = (np.array(this_case)).transpose()\n",
    "        \n",
    "        activation = np.sum(np.array(this_case) * np.array(w))\n",
    "        if activation < 0: \n",
    "            w = (np.array(w) + np.array(x))\n",
    "            \n",
    "    return w\n"
   ]
  },
  {
   "cell_type": "code",
   "execution_count": 4,
   "metadata": {
    "collapsed": false
   },
   "outputs": [],
   "source": [
    "def eval_perceptron(neg_examples, pos_examples, w): \n",
    "    neg_example_mistakes = [];\n",
    "    pos_example_mistakes = [];\n",
    "    \n",
    "    for i in xrange(0,len(neg_examples)): \n",
    "        x = (neg_examples[i][:]).transpose()\n",
    "        #print \"printing x\"\n",
    "        #print x\n",
    "        #break\n",
    "        activation = np.sum((np.array(x)).transpose() * np.array(w))\n",
    "        #print activation\n",
    "        if activation >= 0:\n",
    "            neg_example_mistakes.append(i)\n",
    "            \n",
    "    for i in xrange(0,len(pos_examples)): \n",
    "        x = (pos_examples[i][:]).transpose()\n",
    "        activation = np.sum((np.array(x)).transpose() * np.array(w))\n",
    "        #print activation\n",
    "        if activation < 0:\n",
    "            pos_example_mistakes.append(i)\n",
    "            \n",
    "    return neg_example_mistakes, pos_example_mistakes\n",
    "        "
   ]
  },
  {
   "cell_type": "code",
   "execution_count": 6,
   "metadata": {
    "collapsed": false
   },
   "outputs": [
    {
     "data": {
      "text/html": [
       "<iframe id=\"igraph\" scrolling=\"no\" style=\"border:none;\" seamless=\"seamless\" src=\"https://plot.ly/~kunalgoswami/9.embed\" height=\"525px\" width=\"100%\"></iframe>"
      ],
      "text/plain": [
       "<plotly.tools.PlotlyDisplay object>"
      ]
     },
     "execution_count": 6,
     "metadata": {},
     "output_type": "execute_result"
    }
   ],
   "source": [
    "pos_trace = Scatter(\n",
    "    x = pos_examples_nobias[:,0],\n",
    "    y = pos_examples_nobias[:,1], \n",
    "    mode = 'markers',\n",
    "    name = 'Positive Samples',\n",
    "    marker = dict(\n",
    "        size = 50,\n",
    "        color = 'rgb(0,255,0)'\n",
    "    )\n",
    ")\n",
    "\n",
    "neg_trace = Scatter(\n",
    "    x = neg_examples_nobias[:,0],\n",
    "    y = neg_examples_nobias[:,1], \n",
    "    mode = 'markers',\n",
    "    name = 'Negative Samples',\n",
    "    marker = dict(\n",
    "        size = 50,\n",
    "        color = 'rgb(255,0,0)'\n",
    "    )\n",
    ")\n",
    "\n",
    "data = Data([pos_trace, neg_trace])\n",
    "py.iplot(data, filename = 'basic-line')"
   ]
  },
  {
   "cell_type": "code",
   "execution_count": null,
   "metadata": {
    "collapsed": true
   },
   "outputs": [],
   "source": []
  }
 ],
 "metadata": {
  "kernelspec": {
   "display_name": "Python 2",
   "language": "python",
   "name": "python2"
  },
  "language_info": {
   "codemirror_mode": {
    "name": "ipython",
    "version": 2
   },
   "file_extension": ".py",
   "mimetype": "text/x-python",
   "name": "python",
   "nbconvert_exporter": "python",
   "pygments_lexer": "ipython2",
   "version": "2.7.12"
  }
 },
 "nbformat": 4,
 "nbformat_minor": 0
}
