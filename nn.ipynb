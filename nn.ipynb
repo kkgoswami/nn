{
 "cells": [
  {
   "cell_type": "code",
   "execution_count": 2,
   "metadata": {
    "collapsed": true
   },
   "outputs": [],
   "source": [
    "import numpy as np\n",
    "from IPython.core.debugger import Tracer"
   ]
  },
  {
   "cell_type": "code",
   "execution_count": 5,
   "metadata": {
    "collapsed": false
   },
   "outputs": [
    {
     "name": "stdout",
     "output_type": "stream",
     "text": [
      "[[ 1  2  3  4  5]\n",
      " [ 6  7  8  9  0]\n",
      " [11 12 13 14 15]]\n",
      "(3, 5)\n",
      "<type 'numpy.ndarray'>\n"
     ]
    }
   ],
   "source": [
    "my_array = [\n",
    "    [1,2,3,4,5],\n",
    "    [6,7,8,9,0],\n",
    "    [11,12,13,14,15]\n",
    "]\n",
    "a = np.array(my_array)\n",
    "print a\n",
    "print a.shape\n",
    "print type(a[0])"
   ]
  },
  {
   "cell_type": "code",
   "execution_count": 7,
   "metadata": {
    "collapsed": false
   },
   "outputs": [
    {
     "name": "stdout",
     "output_type": "stream",
     "text": [
      "0\n"
     ]
    }
   ],
   "source": [
    "my_weight = np.array([])\n",
    "print my_weight.shape[0]"
   ]
  },
  {
   "cell_type": "code",
   "execution_count": 3,
   "metadata": {
    "collapsed": true
   },
   "outputs": [],
   "source": [
    "class NN(object):\n",
    "    def __init__(self, nodes_in_layers):\n",
    "        \"\"\"\n",
    "            The constructor for the neural network. \n",
    "            @Arguments: \n",
    "                nodes_in_layers: The list specifying the number of nodes in each layer. And the length of the\n",
    "                                 list specifies the number of layers. \n",
    "        \"\"\"\n",
    "        self.num_layers = len(nodes_in_layers)\n",
    "        self.nodes_in_layers = nodes_in_layers\n",
    "        self.weight = np.array([])\n",
    "        self.layers = None\n",
    "        \n",
    "    def feedforward(self, data_nobias):\n",
    "        \"\"\"\n",
    "        \"\"\"\n",
    "        #from IPython.core.debugger import Tracer\n",
    "        #Tracer()()\n",
    "        \n",
    "        #Adding bias to the data: \n",
    "        data = np.ones([data_nobias.shape[0], data_nobias.shape[1]+1])\n",
    "        data[:,:-1] = data_nobias\n",
    "        \n",
    "        if self.weight.shape[0] == 0 and self.layers is None:\n",
    "            self.weight = []\n",
    "            self.layers = []\n",
    "            n = data.shape[1]\n",
    "            for i in xrange(0, len(self.nodes_in_layers)):\n",
    "                w_temp = np.random.random((self.nodes_in_layers[i], n))\n",
    "                #print \"Appending weight vector: {}\".format(w_temp.shape)\n",
    "                self.weight.append(w_temp)\n",
    "                n = self.nodes_in_layers[i]\n",
    "                self.layers.append(Layer(self.nodes_in_layers[i], i, w_temp))\n",
    "                \n",
    "            temp_data = data \n",
    "            for i in self.layers: \n",
    "                #print \"Calculating Activation, data shape: {}, weight shape: {}\".format(data.shape, i.w.shape)\n",
    "                temp_activation = i.compute_next(temp_data)\n",
    "                temp_data = temp_activation\n",
    "            \n",
    "            return temp_activation   \n",
    "        "
   ]
  },
  {
   "cell_type": "code",
   "execution_count": 5,
   "metadata": {
    "collapsed": false
   },
   "outputs": [
    {
     "name": "stdout",
     "output_type": "stream",
     "text": [
      "[[ 0.67663653]\n",
      " [ 0.67663424]\n",
      " [ 0.67662512]\n",
      " [ 0.67663143]\n",
      " [ 0.67663724]\n",
      " [ 0.67664527]\n",
      " [ 0.67663901]\n",
      " [ 0.67664229]\n",
      " [ 0.67664499]\n",
      " [ 0.676627  ]]\n"
     ]
    }
   ],
   "source": [
    "#Testing the NN Class. \n",
    "mynet = NN([1,2,3,2,1])\n",
    "data = np.random.random((10, 1))\n",
    "test =  mynet.feedforward(data)\n",
    "\n",
    "print test"
   ]
  },
  {
   "cell_type": "code",
   "execution_count": 4,
   "metadata": {
    "collapsed": true
   },
   "outputs": [],
   "source": [
    "class Layer(object):\n",
    "    \n",
    "    \n",
    "    def __init__(self, num_nodes, layer_index, w):\n",
    "        \"\"\"\n",
    "        \"\"\"\n",
    "        self.num_nodes = num_nodes\n",
    "        self.layer_index = layer_index\n",
    "        self.w = w\n",
    "        \n",
    "    def compute_next(self, data):\n",
    "        \"\"\"\n",
    "            Returns the activation function output. \n",
    "        \"\"\"\n",
    "        #print \"Layer index: {}, data shape: {}, weight shape:{}\".format(self.layer_index, data.shape, self.w.shape)\n",
    "        self.activation = self.sigmoid(data.dot(self.w.transpose()))\n",
    "        #print \"Activation shape: {}\".format(self.activation.shape)\n",
    "        return self.activation\n",
    "    \n",
    "    def sigmoid(self, z):\n",
    "        return 1 / (1 + np.exp(-z))"
   ]
  },
  {
   "cell_type": "code",
   "execution_count": null,
   "metadata": {
    "collapsed": true
   },
   "outputs": [],
   "source": []
  },
  {
   "cell_type": "code",
   "execution_count": null,
   "metadata": {
    "collapsed": true
   },
   "outputs": [],
   "source": []
  }
 ],
 "metadata": {
  "kernelspec": {
   "display_name": "Python 2",
   "language": "python",
   "name": "python2"
  },
  "language_info": {
   "codemirror_mode": {
    "name": "ipython",
    "version": 2
   },
   "file_extension": ".py",
   "mimetype": "text/x-python",
   "name": "python",
   "nbconvert_exporter": "python",
   "pygments_lexer": "ipython2",
   "version": "2.7.12"
  }
 },
 "nbformat": 4,
 "nbformat_minor": 0
}
